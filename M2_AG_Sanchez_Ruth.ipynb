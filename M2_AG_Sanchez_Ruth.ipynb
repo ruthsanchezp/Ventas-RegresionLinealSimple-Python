{
  "nbformat": 4,
  "nbformat_minor": 0,
  "metadata": {
    "colab": {
      "provenance": []
    },
    "kernelspec": {
      "name": "python3",
      "display_name": "Python 3"
    },
    "language_info": {
      "name": "python"
    }
  },
  "cells": [
    {
      "cell_type": "markdown",
      "source": [
        "# Ejercicio de Regresión Lineal\n",
        "\n",
        "## Contexto del Ejercicio\n",
        "\n",
        "Una empresa ha proporcionado datos sobre sus inversiones y ventas obtenidas desde el año 1980 hasta el año 2017, en millones de euros. El objetivo de este ejercicio es ajustar un modelo de regresión lineal para predecir las ventas en función de las inversiones. Además, se nos solicita predecir las ventas para una inversión específica de 7 millones de euros y evaluar el modelo utilizando la Suma de Cuadrados del Error (SCE) y el coeficiente de determinación \\( R^2 \\).\n"
      ],
      "metadata": {
        "id": "8atfFLkOTzMk"
      }
    },
    {
      "cell_type": "markdown",
      "source": [
        "###  Paso 1: Carga de Datos y Exploración Inicial\n"
      ],
      "metadata": {
        "id": "XpRv8oLEVGCP"
      }
    },
    {
      "cell_type": "code",
      "source": [
        "# Importar la biblioteca pandas para la manipulación de datos\n",
        "import pandas as pd\n",
        "# Importamos las bibliotecas necesarias para el análisis\n",
        "import matplotlib.pyplot as plt\n",
        "from sklearn.linear_model import LinearRegression\n",
        "# Importamos las funciones para calcular las métricas de evaluación\n",
        "from sklearn.metrics import mean_squared_error, r2_score\n",
        "import scipy.stats as stats"
      ],
      "metadata": {
        "id": "gyoL6DEfT3Xw"
      },
      "execution_count": 29,
      "outputs": []
    },
    {
      "cell_type": "code",
      "source": [
        "# Cargar los datos desde el archivo CSV\n",
        "datos = pd.read_csv('datos_ventas.csv',sep=';',decimal=',')"
      ],
      "metadata": {
        "id": "Kgx8g7kUT34T"
      },
      "execution_count": 34,
      "outputs": []
    },
    {
      "cell_type": "code",
      "source": [
        "# Visualizar las primeras filas del df para explorar su contenido\n",
        "datos.head()"
      ],
      "metadata": {
        "colab": {
          "base_uri": "https://localhost:8080/",
          "height": 206
        },
        "id": "7w8fXrcCVcSm",
        "outputId": "c1ae4dfe-27cb-4c89-8275-40e116616024"
      },
      "execution_count": 35,
      "outputs": [
        {
          "output_type": "execute_result",
          "data": {
            "text/plain": [
              "   Fecha_anual  Inversion  Ventas\n",
              "0         1980        1.0    4.61\n",
              "1         1981        1.5    5.18\n",
              "2         1982        2.0    5.09\n",
              "3         1983        2.5    5.44\n",
              "4         1984        3.0    0.62"
            ],
            "text/html": [
              "\n",
              "  <div id=\"df-aa1d3eea-d89a-4c84-b65e-adb13a1bda6f\" class=\"colab-df-container\">\n",
              "    <div>\n",
              "<style scoped>\n",
              "    .dataframe tbody tr th:only-of-type {\n",
              "        vertical-align: middle;\n",
              "    }\n",
              "\n",
              "    .dataframe tbody tr th {\n",
              "        vertical-align: top;\n",
              "    }\n",
              "\n",
              "    .dataframe thead th {\n",
              "        text-align: right;\n",
              "    }\n",
              "</style>\n",
              "<table border=\"1\" class=\"dataframe\">\n",
              "  <thead>\n",
              "    <tr style=\"text-align: right;\">\n",
              "      <th></th>\n",
              "      <th>Fecha_anual</th>\n",
              "      <th>Inversion</th>\n",
              "      <th>Ventas</th>\n",
              "    </tr>\n",
              "  </thead>\n",
              "  <tbody>\n",
              "    <tr>\n",
              "      <th>0</th>\n",
              "      <td>1980</td>\n",
              "      <td>1.0</td>\n",
              "      <td>4.61</td>\n",
              "    </tr>\n",
              "    <tr>\n",
              "      <th>1</th>\n",
              "      <td>1981</td>\n",
              "      <td>1.5</td>\n",
              "      <td>5.18</td>\n",
              "    </tr>\n",
              "    <tr>\n",
              "      <th>2</th>\n",
              "      <td>1982</td>\n",
              "      <td>2.0</td>\n",
              "      <td>5.09</td>\n",
              "    </tr>\n",
              "    <tr>\n",
              "      <th>3</th>\n",
              "      <td>1983</td>\n",
              "      <td>2.5</td>\n",
              "      <td>5.44</td>\n",
              "    </tr>\n",
              "    <tr>\n",
              "      <th>4</th>\n",
              "      <td>1984</td>\n",
              "      <td>3.0</td>\n",
              "      <td>0.62</td>\n",
              "    </tr>\n",
              "  </tbody>\n",
              "</table>\n",
              "</div>\n",
              "    <div class=\"colab-df-buttons\">\n",
              "\n",
              "  <div class=\"colab-df-container\">\n",
              "    <button class=\"colab-df-convert\" onclick=\"convertToInteractive('df-aa1d3eea-d89a-4c84-b65e-adb13a1bda6f')\"\n",
              "            title=\"Convert this dataframe to an interactive table.\"\n",
              "            style=\"display:none;\">\n",
              "\n",
              "  <svg xmlns=\"http://www.w3.org/2000/svg\" height=\"24px\" viewBox=\"0 -960 960 960\">\n",
              "    <path d=\"M120-120v-720h720v720H120Zm60-500h600v-160H180v160Zm220 220h160v-160H400v160Zm0 220h160v-160H400v160ZM180-400h160v-160H180v160Zm440 0h160v-160H620v160ZM180-180h160v-160H180v160Zm440 0h160v-160H620v160Z\"/>\n",
              "  </svg>\n",
              "    </button>\n",
              "\n",
              "  <style>\n",
              "    .colab-df-container {\n",
              "      display:flex;\n",
              "      gap: 12px;\n",
              "    }\n",
              "\n",
              "    .colab-df-convert {\n",
              "      background-color: #E8F0FE;\n",
              "      border: none;\n",
              "      border-radius: 50%;\n",
              "      cursor: pointer;\n",
              "      display: none;\n",
              "      fill: #1967D2;\n",
              "      height: 32px;\n",
              "      padding: 0 0 0 0;\n",
              "      width: 32px;\n",
              "    }\n",
              "\n",
              "    .colab-df-convert:hover {\n",
              "      background-color: #E2EBFA;\n",
              "      box-shadow: 0px 1px 2px rgba(60, 64, 67, 0.3), 0px 1px 3px 1px rgba(60, 64, 67, 0.15);\n",
              "      fill: #174EA6;\n",
              "    }\n",
              "\n",
              "    .colab-df-buttons div {\n",
              "      margin-bottom: 4px;\n",
              "    }\n",
              "\n",
              "    [theme=dark] .colab-df-convert {\n",
              "      background-color: #3B4455;\n",
              "      fill: #D2E3FC;\n",
              "    }\n",
              "\n",
              "    [theme=dark] .colab-df-convert:hover {\n",
              "      background-color: #434B5C;\n",
              "      box-shadow: 0px 1px 3px 1px rgba(0, 0, 0, 0.15);\n",
              "      filter: drop-shadow(0px 1px 2px rgba(0, 0, 0, 0.3));\n",
              "      fill: #FFFFFF;\n",
              "    }\n",
              "  </style>\n",
              "\n",
              "    <script>\n",
              "      const buttonEl =\n",
              "        document.querySelector('#df-aa1d3eea-d89a-4c84-b65e-adb13a1bda6f button.colab-df-convert');\n",
              "      buttonEl.style.display =\n",
              "        google.colab.kernel.accessAllowed ? 'block' : 'none';\n",
              "\n",
              "      async function convertToInteractive(key) {\n",
              "        const element = document.querySelector('#df-aa1d3eea-d89a-4c84-b65e-adb13a1bda6f');\n",
              "        const dataTable =\n",
              "          await google.colab.kernel.invokeFunction('convertToInteractive',\n",
              "                                                    [key], {});\n",
              "        if (!dataTable) return;\n",
              "\n",
              "        const docLinkHtml = 'Like what you see? Visit the ' +\n",
              "          '<a target=\"_blank\" href=https://colab.research.google.com/notebooks/data_table.ipynb>data table notebook</a>'\n",
              "          + ' to learn more about interactive tables.';\n",
              "        element.innerHTML = '';\n",
              "        dataTable['output_type'] = 'display_data';\n",
              "        await google.colab.output.renderOutput(dataTable, element);\n",
              "        const docLink = document.createElement('div');\n",
              "        docLink.innerHTML = docLinkHtml;\n",
              "        element.appendChild(docLink);\n",
              "      }\n",
              "    </script>\n",
              "  </div>\n",
              "\n",
              "\n",
              "<div id=\"df-757956d6-af1d-4738-8821-81876a4989b0\">\n",
              "  <button class=\"colab-df-quickchart\" onclick=\"quickchart('df-757956d6-af1d-4738-8821-81876a4989b0')\"\n",
              "            title=\"Suggest charts\"\n",
              "            style=\"display:none;\">\n",
              "\n",
              "<svg xmlns=\"http://www.w3.org/2000/svg\" height=\"24px\"viewBox=\"0 0 24 24\"\n",
              "     width=\"24px\">\n",
              "    <g>\n",
              "        <path d=\"M19 3H5c-1.1 0-2 .9-2 2v14c0 1.1.9 2 2 2h14c1.1 0 2-.9 2-2V5c0-1.1-.9-2-2-2zM9 17H7v-7h2v7zm4 0h-2V7h2v10zm4 0h-2v-4h2v4z\"/>\n",
              "    </g>\n",
              "</svg>\n",
              "  </button>\n",
              "\n",
              "<style>\n",
              "  .colab-df-quickchart {\n",
              "      --bg-color: #E8F0FE;\n",
              "      --fill-color: #1967D2;\n",
              "      --hover-bg-color: #E2EBFA;\n",
              "      --hover-fill-color: #174EA6;\n",
              "      --disabled-fill-color: #AAA;\n",
              "      --disabled-bg-color: #DDD;\n",
              "  }\n",
              "\n",
              "  [theme=dark] .colab-df-quickchart {\n",
              "      --bg-color: #3B4455;\n",
              "      --fill-color: #D2E3FC;\n",
              "      --hover-bg-color: #434B5C;\n",
              "      --hover-fill-color: #FFFFFF;\n",
              "      --disabled-bg-color: #3B4455;\n",
              "      --disabled-fill-color: #666;\n",
              "  }\n",
              "\n",
              "  .colab-df-quickchart {\n",
              "    background-color: var(--bg-color);\n",
              "    border: none;\n",
              "    border-radius: 50%;\n",
              "    cursor: pointer;\n",
              "    display: none;\n",
              "    fill: var(--fill-color);\n",
              "    height: 32px;\n",
              "    padding: 0;\n",
              "    width: 32px;\n",
              "  }\n",
              "\n",
              "  .colab-df-quickchart:hover {\n",
              "    background-color: var(--hover-bg-color);\n",
              "    box-shadow: 0 1px 2px rgba(60, 64, 67, 0.3), 0 1px 3px 1px rgba(60, 64, 67, 0.15);\n",
              "    fill: var(--button-hover-fill-color);\n",
              "  }\n",
              "\n",
              "  .colab-df-quickchart-complete:disabled,\n",
              "  .colab-df-quickchart-complete:disabled:hover {\n",
              "    background-color: var(--disabled-bg-color);\n",
              "    fill: var(--disabled-fill-color);\n",
              "    box-shadow: none;\n",
              "  }\n",
              "\n",
              "  .colab-df-spinner {\n",
              "    border: 2px solid var(--fill-color);\n",
              "    border-color: transparent;\n",
              "    border-bottom-color: var(--fill-color);\n",
              "    animation:\n",
              "      spin 1s steps(1) infinite;\n",
              "  }\n",
              "\n",
              "  @keyframes spin {\n",
              "    0% {\n",
              "      border-color: transparent;\n",
              "      border-bottom-color: var(--fill-color);\n",
              "      border-left-color: var(--fill-color);\n",
              "    }\n",
              "    20% {\n",
              "      border-color: transparent;\n",
              "      border-left-color: var(--fill-color);\n",
              "      border-top-color: var(--fill-color);\n",
              "    }\n",
              "    30% {\n",
              "      border-color: transparent;\n",
              "      border-left-color: var(--fill-color);\n",
              "      border-top-color: var(--fill-color);\n",
              "      border-right-color: var(--fill-color);\n",
              "    }\n",
              "    40% {\n",
              "      border-color: transparent;\n",
              "      border-right-color: var(--fill-color);\n",
              "      border-top-color: var(--fill-color);\n",
              "    }\n",
              "    60% {\n",
              "      border-color: transparent;\n",
              "      border-right-color: var(--fill-color);\n",
              "    }\n",
              "    80% {\n",
              "      border-color: transparent;\n",
              "      border-right-color: var(--fill-color);\n",
              "      border-bottom-color: var(--fill-color);\n",
              "    }\n",
              "    90% {\n",
              "      border-color: transparent;\n",
              "      border-bottom-color: var(--fill-color);\n",
              "    }\n",
              "  }\n",
              "</style>\n",
              "\n",
              "  <script>\n",
              "    async function quickchart(key) {\n",
              "      const quickchartButtonEl =\n",
              "        document.querySelector('#' + key + ' button');\n",
              "      quickchartButtonEl.disabled = true;  // To prevent multiple clicks.\n",
              "      quickchartButtonEl.classList.add('colab-df-spinner');\n",
              "      try {\n",
              "        const charts = await google.colab.kernel.invokeFunction(\n",
              "            'suggestCharts', [key], {});\n",
              "      } catch (error) {\n",
              "        console.error('Error during call to suggestCharts:', error);\n",
              "      }\n",
              "      quickchartButtonEl.classList.remove('colab-df-spinner');\n",
              "      quickchartButtonEl.classList.add('colab-df-quickchart-complete');\n",
              "    }\n",
              "    (() => {\n",
              "      let quickchartButtonEl =\n",
              "        document.querySelector('#df-757956d6-af1d-4738-8821-81876a4989b0 button');\n",
              "      quickchartButtonEl.style.display =\n",
              "        google.colab.kernel.accessAllowed ? 'block' : 'none';\n",
              "    })();\n",
              "  </script>\n",
              "</div>\n",
              "\n",
              "    </div>\n",
              "  </div>\n"
            ],
            "application/vnd.google.colaboratory.intrinsic+json": {
              "type": "dataframe",
              "variable_name": "datos",
              "summary": "{\n  \"name\": \"datos\",\n  \"rows\": 38,\n  \"fields\": [\n    {\n      \"column\": \"Fecha_anual\",\n      \"properties\": {\n        \"dtype\": \"number\",\n        \"std\": 11,\n        \"min\": 1980,\n        \"max\": 2017,\n        \"num_unique_values\": 38,\n        \"samples\": [\n          2013,\n          2016,\n          1984\n        ],\n        \"semantic_type\": \"\",\n        \"description\": \"\"\n      }\n    },\n    {\n      \"column\": \"Inversion\",\n      \"properties\": {\n        \"dtype\": \"number\",\n        \"std\": 5.5565276927232174,\n        \"min\": 1.0,\n        \"max\": 19.5,\n        \"num_unique_values\": 38,\n        \"samples\": [\n          17.5,\n          19.0,\n          3.0\n        ],\n        \"semantic_type\": \"\",\n        \"description\": \"\"\n      }\n    },\n    {\n      \"column\": \"Ventas\",\n      \"properties\": {\n        \"dtype\": \"number\",\n        \"std\": 4.315321483057051,\n        \"min\": 0.62,\n        \"max\": 17.45,\n        \"num_unique_values\": 38,\n        \"samples\": [\n          15.69,\n          16.72,\n          0.62\n        ],\n        \"semantic_type\": \"\",\n        \"description\": \"\"\n      }\n    }\n  ]\n}"
            }
          },
          "metadata": {},
          "execution_count": 35
        }
      ]
    },
    {
      "cell_type": "markdown",
      "source": [
        "**Explicación del código:** En este primer paso, cargamos las librerias necesarias para el trabajo y la biblioteca pandas para cargar los datos desde un archivo CSV. Luego visualizamos las primeras filas del DataFrame para entender su estructura."
      ],
      "metadata": {
        "id": "53CScphsVugQ"
      }
    },
    {
      "cell_type": "markdown",
      "source": [
        "### Paso 2: Ajuste del Modelo de Regresión Lineal\n"
      ],
      "metadata": {
        "id": "2rPOSdf2VzYD"
      }
    },
    {
      "cell_type": "code",
      "source": [
        "# Se define las variables independiente (X) y dependiente (Y)\n",
        "# X contiene las inversiones e Y las ventas\n",
        "X = datos[['Inversion']]\n",
        "Y = datos['Ventas']\n",
        "\n",
        "# Modelo de regresión lineal\n",
        "modelo = LinearRegression()\n",
        "\n",
        "# Ajuste del modelo a los datos\n",
        "modelo.fit(X, Y)\n",
        "\n",
        "# Parámetros del modelo: intercepto y coeficiente\n",
        "intercepto = modelo.intercept_\n",
        "coeficiente = modelo.coef_[0]\n",
        "\n",
        "# Mostramos los parámetros del modelo\n",
        "print(f\"Intercepto: {intercepto}\")\n",
        "print(f\"Coeficiente: {coeficiente}\")"
      ],
      "metadata": {
        "colab": {
          "base_uri": "https://localhost:8080/"
        },
        "id": "wtCZngFqV1Vn",
        "outputId": "8905a857-f372-4c2e-da29-2562c2871233"
      },
      "execution_count": null,
      "outputs": [
        {
          "output_type": "stream",
          "name": "stdout",
          "text": [
            "Intercepto: 2.8805285042127133\n",
            "Coeficiente: 0.7426698763540869\n"
          ]
        }
      ]
    },
    {
      "cell_type": "markdown",
      "source": [
        "#### **Interpretación de Resultados**\n",
        "\n",
        "El modelo de regresión lineal ajustado tiene la fórmula:\n",
        "\n",
        "$$Ventas = 2.88 + 0.74 \\times Inversión$$\n",
        "\n",
        "* **Intercepto: 2.88**\n",
        "\n",
        "Representa las ventas esperadas cuando la inversión es cero. En este contexto, indica que si no se realiza ninguna inversión, las ventas previstas son de 2.88 millones de euros.\n",
        "\n",
        "* **Coeficiente: 0.74**\n",
        "\n",
        "Indica que por cada millón de euros adicional invertido, se espera un aumento de 0.74 millones de euros en las ventas.\n",
        "\n",
        "\n"
      ],
      "metadata": {
        "id": "wSeUEzQJYI_k"
      }
    },
    {
      "cell_type": "markdown",
      "source": [
        "**Interpretación del código:** En este paso, definimos las variables independientes y dependientes. Luego, utilizamos LinearRegression de sklearn para ajustar el modelo de regresión lineal a los datos y obtenemos los parámetros del modelo, que son el intercepto y el coeficiente."
      ],
      "metadata": {
        "id": "SkoiCosHWUCu"
      }
    },
    {
      "cell_type": "markdown",
      "source": [
        "### Paso 3: Predicción de Ventas"
      ],
      "metadata": {
        "id": "YQpWP5KeXAmD"
      }
    },
    {
      "cell_type": "markdown",
      "source": [
        "#### ¿Cuántas ventas se obtendrían si se invirtiesen 7 millones de euros?"
      ],
      "metadata": {
        "id": "wma8tyUm8OZq"
      }
    },
    {
      "cell_type": "code",
      "source": [
        "# Utilizamos el modelo ajustado para predecir las ventas correspondientes a la nueva inversión\n",
        "ventas_predichas = modelo.predict([[7]])\n",
        "\n",
        "# Mostramos las ventas predichas\n",
        "ventas_predichas"
      ],
      "metadata": {
        "colab": {
          "base_uri": "https://localhost:8080/"
        },
        "id": "dvoU6GgxWUfV",
        "outputId": "565e7a8a-5c2c-4837-c319-3574f9a704be"
      },
      "execution_count": 38,
      "outputs": [
        {
          "output_type": "stream",
          "name": "stderr",
          "text": [
            "/usr/local/lib/python3.10/dist-packages/sklearn/base.py:439: UserWarning: X does not have valid feature names, but LinearRegression was fitted with feature names\n",
            "  warnings.warn(\n"
          ]
        },
        {
          "output_type": "execute_result",
          "data": {
            "text/plain": [
              "array([8.07921764])"
            ]
          },
          "metadata": {},
          "execution_count": 38
        }
      ]
    },
    {
      "cell_type": "markdown",
      "source": [
        "#### **Interpretación de Resultados**\n",
        "\n",
        "Para una inversión de 7 millones de euros, el modelo predice que las ventas serían aproximadamente 8.08 millones de euros."
      ],
      "metadata": {
        "id": "_qGIWSXwc8gI"
      }
    },
    {
      "cell_type": "markdown",
      "source": [
        "**Interpretación código:** Definimos una nueva inversión de 7 millones de euros, y se utiliza el modelo ajustado para predecir las ventas correspondientes a esa inversión con la función predict().\n"
      ],
      "metadata": {
        "id": "YnnL4sp9dHMD"
      }
    },
    {
      "cell_type": "markdown",
      "source": [
        "### Paso 4: Evaluación del Modelo"
      ],
      "metadata": {
        "id": "QFMZYbEqXHOp"
      }
    },
    {
      "cell_type": "code",
      "source": [
        "# Generamos las predicciones del modelo para los datos originales\n",
        "predicciones = modelo.predict(X)\n",
        "#pd.concat([pd.Series(Y,name='Ventas Reales'),pd.Series(predicciones,name='Ventas Predichas')],axis=1)\n",
        "# Calculamos la Suma de Cuadrados del Error (SCE)\n",
        "# Calculo del SCE\n",
        "SCE = mean_squared_error(Y, predicciones)\n",
        "\n",
        "# Calculamos el coeficiente de determinación (R^2)\n",
        "R2 = r2_score(Y, predicciones)\n",
        "\n",
        "# Mostramos las métricas de evaluación\n",
        "print(f\"Suma de Cuadrados del Error (SCE): {SCE}\")\n",
        "print(f\"Coeficiente de Determinación (R^2): {R2}\")"
      ],
      "metadata": {
        "colab": {
          "base_uri": "https://localhost:8080/"
        },
        "id": "SlUTB5qCXEva",
        "outputId": "5604898e-1e6e-4483-ff04-affb1b2304b4"
      },
      "execution_count": null,
      "outputs": [
        {
          "output_type": "stream",
          "name": "stdout",
          "text": [
            "Suma de Cuadrados del Error (SCE): 1.550718117264932\n",
            "Coeficiente de Determinación (R^2): 0.9144759177150086\n"
          ]
        }
      ]
    },
    {
      "cell_type": "markdown",
      "source": [
        "#### **Interpretación de Resultados**\n",
        "\n",
        "* Suma de Cuadrados del Error **(SCE) (1.55)**: Este valor indica la suma total de las diferencias al cuadrado entre las ventas reales y las predichas por el modelo. Un valor más bajo indica un mejor ajuste del modelo. En este caso, 1.55 es un valor  bajo en comparación con el rango de las ventas (0.62 a 17.45 millones de euros).\n",
        "\n",
        "* Coeficiente de Determinación ($R^2$) (**0.91**): Este valor indica la proporción de la variabilidad de las ventas que es explicada por las inversiones en el modelo. Un valor de ($R^2$) cercano a 1 indica un buen ajuste del modelo. En este caso, 0.91 sugiere que el modelo explica el 91% de la variabilidad en las ventas, lo que indica un ajuste muy bueno."
      ],
      "metadata": {
        "id": "kQJ92yHgdj7k"
      }
    },
    {
      "cell_type": "markdown",
      "source": [
        "**Interpretación código:** Se importa mean_squared_error y r2_score de sklearn.metrics para calcular las métricas de evaluación del modelo.Luego se genera las predicciones del modelo para los datos originales.\n",
        "Suma de Cuadrados del Error (SCE) multiplicando el error cuadrático medio (MSE) por el número de observaciones.\n",
        "Calculamos el coeficiente de determinación para evaluar qué tan bien se ajusta el modelo a los datos.Mostramos las métricas de evaluación para interpretar el desempeño del modelo."
      ],
      "metadata": {
        "id": "_bTcLyeEdj9w"
      }
    },
    {
      "cell_type": "markdown",
      "source": [
        "## Anexo"
      ],
      "metadata": {
        "id": "g97yE9LEiCGJ"
      }
    },
    {
      "cell_type": "markdown",
      "source": [
        "### **Gráfico de dispersión con la línea de regresión**"
      ],
      "metadata": {
        "id": "FzDlpdEFiE0A"
      }
    },
    {
      "cell_type": "code",
      "source": [
        "plt.scatter(X, Y, color='blue', label='Datos Reales')\n",
        "plt.plot(X, modelo.predict(X), color='red', label='Línea de Regresión')\n",
        "plt.xlabel('Inversión (millones de euros)')\n",
        "plt.ylabel('Ventas (millones de euros)')\n",
        "plt.title('Regresión Lineal: Inversiones vs Ventas')\n",
        "plt.legend()\n",
        "plt.show()"
      ],
      "metadata": {
        "colab": {
          "base_uri": "https://localhost:8080/",
          "height": 472
        },
        "id": "ZJ3t0vtrXMNV",
        "outputId": "54411841-61b1-43d1-f79e-b43b11c1d6f8"
      },
      "execution_count": null,
      "outputs": [
        {
          "output_type": "display_data",
          "data": {
            "text/plain": [
              "<Figure size 640x480 with 1 Axes>"
            ],
            "image/png": "[encoded data removed]"
          },
          "metadata": {}
        }
      ]
    },
    {
      "cell_type": "markdown",
      "source": [
        "La dispersión de los puntos alrededor de la línea de regresión sugiere una relación lineal positiva entre las inversiones y las ventas. Es decir, a medida que aumentan las inversiones, también aumentan las ventas.\n",
        "\n",
        "\n",
        "La mayoría de los puntos están cerca de la línea de regresión, lo que indica que el modelo de regresión lineal ajusta bien los datos. Sin embargo, hay algunos puntos que están más alejados de la línea, lo que sugiere que el modelo no es perfecto pero aún así hace un buen trabajo al capturar la tendencia general."
      ],
      "metadata": {
        "id": "cfOEq4Ypipqb"
      }
    },
    {
      "cell_type": "markdown",
      "source": [
        "### **Gráfico de predicciones vs valores reales**"
      ],
      "metadata": {
        "id": "kLGRqTbYiZJi"
      }
    },
    {
      "cell_type": "code",
      "source": [
        "plt.scatter(predicciones, Y, color='green')\n",
        "plt.xlabel('Ventas Predichas (millones de euros)')\n",
        "plt.ylabel('Ventas Reales (millones de euros)')\n",
        "plt.title('Ventas Reales vs Ventas Predichas')\n",
        "plt.plot([Y.min(), Y.max()], [Y.min(), Y.max()], color='red', lw=2)\n",
        "plt.show()"
      ],
      "metadata": {
        "colab": {
          "base_uri": "https://localhost:8080/",
          "height": 472
        },
        "id": "q9cNGbDdhzD5",
        "outputId": "72a3e80f-afb8-4e44-9f48-fbcf984ac611"
      },
      "execution_count": null,
      "outputs": [
        {
          "output_type": "display_data",
          "data": {
            "text/plain": [
              "<Figure size 640x480 with 1 Axes>"
            ],
            "image/png": "[encoded data removed]"
          },
          "metadata": {}
        }
      ]
    },
    {
      "cell_type": "markdown",
      "source": [
        "Los puntos verdes cercanos a la línea roja indican que las predicciones del modelo son precisas. Cuanto más cerca estén los puntos de la línea roja, mejor es la predicción del modelo, aunque algunos puntos se desvían de dicha línea, lo que indica errores en las predicciones. Sin embargo, la mayoría de los puntos están muy cerca de la línea, lo que sugiere que el modelo predice bastante bien las ventas.\n"
      ],
      "metadata": {
        "id": "ppIT_9f7i2jS"
      }
    }
  ]
}